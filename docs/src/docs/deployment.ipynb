{
 "cells": [
  {
   "attachments": {},
   "cell_type": "markdown",
   "metadata": {},
   "source": [
    "# Deployment\n",
    "\n",
    "## FastAPI\n",
    "\n",
    "We strongly recommend deploying Marvin's components with FastAPI. \n",
    "\n",
    "### Example: Deploying a *Declarative* API Gateway\n",
    "\n",
    "Here's how you can deploy a declarative API gateway in a few lines of code."
   ]
  },
  {
   "cell_type": "code",
   "execution_count": null,
   "metadata": {},
   "outputs": [],
   "source": [
    "from fastapi import FastAPI\n",
    "from marvin import ai_fn, ai_model\n",
    "from pydantic import BaseModel\n",
    "import uvicorn\n",
    "import asyncio\n",
    "\n",
    "app = FastAPI()\n",
    "\n",
    "\n",
    "@ai_fn\n",
    "def generate_fruits(n: int) -> list[str]:\n",
    "    \"\"\"Generates a list of `n` fruits\"\"\"\n",
    "\n",
    "\n",
    "@ai_fn\n",
    "def generate_vegetables(n: int, color: str) -> list[str]:\n",
    "    \"\"\"Generates a list of `n` vegetables of color `color`\"\"\"\n",
    "\n",
    "\n",
    "@ai_model\n",
    "class Person(BaseModel):\n",
    "    first_name: str\n",
    "    last_name: str\n",
    "\n",
    "\n",
    "app.add_api_route(\"/generate_fruits\", generate_fruits)\n",
    "app.add_api_route(\"/generate_vegetables\", generate_vegetables)\n",
    "app.add_api_route(\"/person/extract\", Person.route())"
   ]
  },
  {
   "attachments": {},
   "cell_type": "markdown",
   "metadata": {},
   "source": [
    "If you want to serve the previous example from, say, a Jupyter Notebook for local testing, you can also include:"
   ]
  },
  {
   "cell_type": "code",
   "execution_count": null,
   "metadata": {},
   "outputs": [],
   "source": [
    "# ... from above\n",
    "# If you want to run an API from a Jupyter Notebook.\n",
    "\n",
    "config = uvicorn.Config(app)\n",
    "server = uvicorn.Server(config)\n",
    "await server.serve()\n",
    "\n",
    "# Then navigate to localhost:8000/docs"
   ]
  },
  {
   "cell_type": "markdown",
   "metadata": {},
   "source": [
    "### Example: Deploying an AI Application\n",
    "\n",
    "REST APIs are, by their very nature, stateless. This means that holding the `state` of an application needs to be shared by the user (by managing the state in their browser) and/or the server (via a database). \n",
    "\n",
    "#### Having the end-user manage state. \n",
    "For this example, we'll forgo persisting the state to a database (which is otherwise recommended) and show how you can manage state. "
   ]
  },
  {
   "cell_type": "code",
   "execution_count": null,
   "metadata": {},
   "outputs": [],
   "source": [
    "from marvin import AIApplication\n",
    "\n",
    "from datetime import datetime\n",
    "from pydantic import BaseModel\n",
    "from fastapi import FastAPI\n",
    "\n",
    "app = FastAPI()\n",
    "\n",
    "\n",
    "class ToDo(BaseModel):\n",
    "    \"\"\"A to-do item.\"\"\"\n",
    "\n",
    "    title: str\n",
    "    description: str\n",
    "    due_date: datetime = None\n",
    "    done: bool = False\n",
    "\n",
    "\n",
    "class ToDoState(BaseModel):\n",
    "    \"\"\"The state of the to-do tracker.\"\"\"\n",
    "\n",
    "    todos: list[ToDo] = []\n",
    "\n",
    "\n",
    "class ToDoResponse(BaseModel):\n",
    "    \"\"\"The response from the to-do tracker.\"\"\"\n",
    "\n",
    "    content: str\n",
    "    state: ToDoState\n",
    "\n",
    "\n",
    "@app.get(\"/\")\n",
    "def run(update: str, state: ToDoState = ToDoState()) -> ToDoResponse:\n",
    "    description = (\n",
    "        \"A simple to-do tracker. Users will give instructions \"\n",
    "        \"to add, remove, and update their to-dos.\"\n",
    "    )\n",
    "\n",
    "    # We'll initialize the application, passing in the state and description.\n",
    "    todo = AIApplication(state=state, description=description)\n",
    "\n",
    "    # We'll issue the update to the application.\n",
    "    response = todo(update)\n",
    "\n",
    "    # We'll return the response, along with the updated state.\n",
    "    return ToDoResponse(content=response.content, state=todo.state)"
   ]
  },
  {
   "cell_type": "markdown",
   "metadata": {},
   "source": [
    "Every time you call /?update=, you'll get a response from the to-do tracker acknowledging the update, along\n",
    "with the current state of the tracker. In this implementation you'll need to keep the state on the client side\n",
    "and pass it in with every request.\n",
    "\n",
    "We'll use FastAPI's test client to send a mock request."
   ]
  },
  {
   "cell_type": "code",
   "execution_count": null,
   "metadata": {},
   "outputs": [],
   "source": [
    "from fastapi.testclient import TestClient\n",
    "\n",
    "response = TestClient(app).get(\n",
    "    url=\"/\",\n",
    "    params={\"update\": \"Remind me I have an appointment with Craig tomorrow at 9AM\"},\n",
    ")\n",
    "\n",
    "response.json()\n",
    "\n",
    "# {\n",
    "#   \"content\": \"You have an appointment with Craig tomorrow at 9AM.\",\n",
    "#   \"state\": {\n",
    "#     \"todos\": [\n",
    "#       {\n",
    "#         \"title\": \"Appointment with Craig\",\n",
    "#         \"description\": \"Meeting with Craig tomorrow at 9AM\",\n",
    "#         \"due_date\": \"2023-07-19T09:00:00\",\n",
    "#         \"done\": false\n",
    "#       }\n",
    "#     ]\n",
    "#   }\n",
    "# }"
   ]
  }
 ],
 "metadata": {
  "kernelspec": {
   "display_name": "Python 3 (ipykernel)",
   "language": "python",
   "name": "python3"
  },
  "orig_nbformat": 4
 },
 "nbformat": 4,
 "nbformat_minor": 2
}
